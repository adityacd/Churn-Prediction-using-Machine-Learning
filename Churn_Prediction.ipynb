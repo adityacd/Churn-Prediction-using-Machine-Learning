{
  "nbformat": 4,
  "nbformat_minor": 0,
  "metadata": {
    "colab": {
      "name": "Churn_Prediction.ipynb",
      "provenance": [],
      "collapsed_sections": [],
      "authorship_tag": "ABX9TyPYeig3dWDu9YOvJW/4gO9c",
      "include_colab_link": true
    },
    "kernelspec": {
      "name": "python3",
      "display_name": "Python 3"
    }
  },
  "cells": [
    {
      "cell_type": "markdown",
      "metadata": {
        "id": "view-in-github",
        "colab_type": "text"
      },
      "source": [
        "<a href=\"https://colab.research.google.com/github/adityacd/Churn-Prediction-using-Machine-Learning/blob/master/Churn_Prediction.ipynb\" target=\"_parent\"><img src=\"https://colab.research.google.com/assets/colab-badge.svg\" alt=\"Open In Colab\"/></a>"
      ]
    },
    {
      "cell_type": "code",
      "metadata": {
        "id": "JqnVgIS68q36",
        "colab_type": "code",
        "colab": {
          "base_uri": "https://localhost:8080/",
          "height": 72
        },
        "outputId": "a57d035a-7a82-4a4d-b039-fcb462542fe4"
      },
      "source": [
        "#Import Libraries\n",
        "import numpy as np\n",
        "import matplotlib.pyplot as plt\n",
        "import pandas as pd\n",
        "import seaborn as sns"
      ],
      "execution_count": 57,
      "outputs": [
        {
          "output_type": "stream",
          "text": [
            "/usr/local/lib/python3.6/dist-packages/statsmodels/tools/_testing.py:19: FutureWarning: pandas.util.testing is deprecated. Use the functions in the public API at pandas.testing instead.\n",
            "  import pandas.util.testing as tm\n"
          ],
          "name": "stderr"
        }
      ]
    },
    {
      "cell_type": "code",
      "metadata": {
        "id": "IY2E53cT9GZh",
        "colab_type": "code",
        "colab": {
          "base_uri": "https://localhost:8080/",
          "height": 194
        },
        "outputId": "4f5294ea-8e9c-4932-968a-0d2e69d7b43c"
      },
      "source": [
        "#Import Dataset\n",
        "df = pd.read_csv('raw-customer-churn-data (1).csv')\n",
        "df.head() "
      ],
      "execution_count": 3,
      "outputs": [
        {
          "output_type": "execute_result",
          "data": {
            "text/html": [
              "<div>\n",
              "<style scoped>\n",
              "    .dataframe tbody tr th:only-of-type {\n",
              "        vertical-align: middle;\n",
              "    }\n",
              "\n",
              "    .dataframe tbody tr th {\n",
              "        vertical-align: top;\n",
              "    }\n",
              "\n",
              "    .dataframe thead th {\n",
              "        text-align: right;\n",
              "    }\n",
              "</style>\n",
              "<table border=\"1\" class=\"dataframe\">\n",
              "  <thead>\n",
              "    <tr style=\"text-align: right;\">\n",
              "      <th></th>\n",
              "      <th>Name</th>\n",
              "      <th>Gender</th>\n",
              "      <th>Age</th>\n",
              "      <th>Payment Method</th>\n",
              "      <th>Churn</th>\n",
              "      <th>LastTransaction</th>\n",
              "    </tr>\n",
              "  </thead>\n",
              "  <tbody>\n",
              "    <tr>\n",
              "      <th>0</th>\n",
              "      <td>Nicolas Garrett</td>\n",
              "      <td>male</td>\n",
              "      <td>64.0</td>\n",
              "      <td>credit card</td>\n",
              "      <td>loyal</td>\n",
              "      <td>98</td>\n",
              "    </tr>\n",
              "    <tr>\n",
              "      <th>1</th>\n",
              "      <td>Isaac Reyes</td>\n",
              "      <td>male</td>\n",
              "      <td>35.0</td>\n",
              "      <td>cheque</td>\n",
              "      <td>churn</td>\n",
              "      <td>118</td>\n",
              "    </tr>\n",
              "    <tr>\n",
              "      <th>2</th>\n",
              "      <td>Jaime Sullivan</td>\n",
              "      <td>female</td>\n",
              "      <td>25.0</td>\n",
              "      <td>credit card</td>\n",
              "      <td>loyal</td>\n",
              "      <td>107</td>\n",
              "    </tr>\n",
              "    <tr>\n",
              "      <th>3</th>\n",
              "      <td>Geraldine Miller</td>\n",
              "      <td>female</td>\n",
              "      <td>39.0</td>\n",
              "      <td>credit card</td>\n",
              "      <td>NaN</td>\n",
              "      <td>177</td>\n",
              "    </tr>\n",
              "    <tr>\n",
              "      <th>4</th>\n",
              "      <td>Curtis Frazier</td>\n",
              "      <td>male</td>\n",
              "      <td>39.0</td>\n",
              "      <td>credit card</td>\n",
              "      <td>loyal</td>\n",
              "      <td>90</td>\n",
              "    </tr>\n",
              "  </tbody>\n",
              "</table>\n",
              "</div>"
            ],
            "text/plain": [
              "               Name  Gender   Age Payment Method  Churn  LastTransaction\n",
              "0   Nicolas Garrett    male  64.0    credit card  loyal               98\n",
              "1       Isaac Reyes    male  35.0         cheque  churn              118\n",
              "2    Jaime Sullivan  female  25.0    credit card  loyal              107\n",
              "3  Geraldine Miller  female  39.0    credit card    NaN              177\n",
              "4    Curtis Frazier    male  39.0    credit card  loyal               90"
            ]
          },
          "metadata": {
            "tags": []
          },
          "execution_count": 3
        }
      ]
    },
    {
      "cell_type": "code",
      "metadata": {
        "id": "kh-YroaLv_MV",
        "colab_type": "code",
        "colab": {
          "base_uri": "https://localhost:8080/",
          "height": 141
        },
        "outputId": "31d5228a-aeb1-43db-f254-6461a7541845"
      },
      "source": [
        "#Finding count of Missing values\n",
        "df.isna().sum()"
      ],
      "execution_count": 4,
      "outputs": [
        {
          "output_type": "execute_result",
          "data": {
            "text/plain": [
              "Name                0\n",
              "Gender              1\n",
              "Age                 1\n",
              "Payment Method      0\n",
              "Churn              96\n",
              "LastTransaction     0\n",
              "dtype: int64"
            ]
          },
          "metadata": {
            "tags": []
          },
          "execution_count": 4
        }
      ]
    },
    {
      "cell_type": "code",
      "metadata": {
        "id": "1WahKn4WyjLg",
        "colab_type": "code",
        "colab": {}
      },
      "source": [
        "#Taking care of missing data\n",
        "df['Gender'] = df['Gender'].fillna(method = 'ffill')\n",
        "df['Age'] = df['Age'].fillna(method = 'ffill')\n",
        "df['Churn'] = df['Churn'].fillna(method = 'ffill')"
      ],
      "execution_count": 5,
      "outputs": []
    },
    {
      "cell_type": "code",
      "metadata": {
        "id": "x_apxM204tO5",
        "colab_type": "code",
        "colab": {
          "base_uri": "https://localhost:8080/",
          "height": 141
        },
        "outputId": "c5c992b3-3ede-41bc-9fd5-b0276d9c52c1"
      },
      "source": [
        "df.isnull().sum()"
      ],
      "execution_count": 8,
      "outputs": [
        {
          "output_type": "execute_result",
          "data": {
            "text/plain": [
              "Name               0\n",
              "Gender             0\n",
              "Age                0\n",
              "Payment Method     0\n",
              "Churn              0\n",
              "LastTransaction    0\n",
              "dtype: int64"
            ]
          },
          "metadata": {
            "tags": []
          },
          "execution_count": 8
        }
      ]
    },
    {
      "cell_type": "code",
      "metadata": {
        "id": "HKU8PZ-p5l1u",
        "colab_type": "code",
        "colab": {
          "base_uri": "https://localhost:8080/",
          "height": 70
        },
        "outputId": "2aa6562f-7970-437f-c497-1357bdfe690e"
      },
      "source": [
        "df['Churn'].value_counts()"
      ],
      "execution_count": 54,
      "outputs": [
        {
          "output_type": "execute_result",
          "data": {
            "text/plain": [
              "1    639\n",
              "0    360\n",
              "Name: Churn, dtype: int64"
            ]
          },
          "metadata": {
            "tags": []
          },
          "execution_count": 54
        }
      ]
    },
    {
      "cell_type": "code",
      "metadata": {
        "id": "xIQITwwk5lw_",
        "colab_type": "code",
        "colab": {
          "base_uri": "https://localhost:8080/",
          "height": 297
        },
        "outputId": "418c451b-816f-4e84-a08c-49675c310e8e"
      },
      "source": [
        "#Count of Churn and Loyal\n",
        "sns.countplot(df['Churn'], label = 'count')"
      ],
      "execution_count": 58,
      "outputs": [
        {
          "output_type": "execute_result",
          "data": {
            "text/plain": [
              "<matplotlib.axes._subplots.AxesSubplot at 0x7f7c8d3cc198>"
            ]
          },
          "metadata": {
            "tags": []
          },
          "execution_count": 58
        },
        {
          "output_type": "display_data",
          "data": {
            "image/png": "[encoded data removed]",
            "text/plain": [
              "<Figure size 432x288 with 1 Axes>"
            ]
          },
          "metadata": {
            "tags": [],
            "needs_background": "light"
          }
        }
      ]
    },
    {
      "cell_type": "code",
      "metadata": {
        "id": "sYyTcqGjbm9P",
        "colab_type": "code",
        "colab": {
          "base_uri": "https://localhost:8080/",
          "height": 141
        },
        "outputId": "820e7a28-b86d-4566-ff4a-d542ced9ff86"
      },
      "source": [
        "#Identifying the DataTypes\n",
        "df.dtypes"
      ],
      "execution_count": 64,
      "outputs": [
        {
          "output_type": "execute_result",
          "data": {
            "text/plain": [
              "Name                object\n",
              "Gender               int64\n",
              "Age                float64\n",
              "Payment Method       int64\n",
              "Churn                int64\n",
              "LastTransaction      int64\n",
              "dtype: object"
            ]
          },
          "metadata": {
            "tags": []
          },
          "execution_count": 64
        }
      ]
    },
    {
      "cell_type": "code",
      "metadata": {
        "id": "fzsJhxxpxtiS",
        "colab_type": "code",
        "colab": {}
      },
      "source": [
        "#Encoding the Categorical varaibles independent variables\n",
        "from sklearn.preprocessing import LabelEncoder\n",
        "le = LabelEncoder()\n",
        "df['Churn'] = le.fit_transform(df['Churn'])\n",
        "df['Payment Method'] = le.fit_transform(df['Payment Method'])\n",
        "df['Gender'] = le.fit_transform(df['Gender'])"
      ],
      "execution_count": 9,
      "outputs": []
    },
    {
      "cell_type": "code",
      "metadata": {
        "id": "ONbwyfip4v6e",
        "colab_type": "code",
        "colab": {
          "base_uri": "https://localhost:8080/",
          "height": 634
        },
        "outputId": "845f0a45-7b7e-4537-b931-256928e63716"
      },
      "source": [
        "df.head(20)"
      ],
      "execution_count": 66,
      "outputs": [
        {
          "output_type": "execute_result",
          "data": {
            "text/html": [
              "<div>\n",
              "<style scoped>\n",
              "    .dataframe tbody tr th:only-of-type {\n",
              "        vertical-align: middle;\n",
              "    }\n",
              "\n",
              "    .dataframe tbody tr th {\n",
              "        vertical-align: top;\n",
              "    }\n",
              "\n",
              "    .dataframe thead th {\n",
              "        text-align: right;\n",
              "    }\n",
              "</style>\n",
              "<table border=\"1\" class=\"dataframe\">\n",
              "  <thead>\n",
              "    <tr style=\"text-align: right;\">\n",
              "      <th></th>\n",
              "      <th>Name</th>\n",
              "      <th>Gender</th>\n",
              "      <th>Age</th>\n",
              "      <th>Payment Method</th>\n",
              "      <th>Churn</th>\n",
              "      <th>LastTransaction</th>\n",
              "    </tr>\n",
              "  </thead>\n",
              "  <tbody>\n",
              "    <tr>\n",
              "      <th>0</th>\n",
              "      <td>Nicolas Garrett</td>\n",
              "      <td>1</td>\n",
              "      <td>64.0</td>\n",
              "      <td>2</td>\n",
              "      <td>1</td>\n",
              "      <td>98</td>\n",
              "    </tr>\n",
              "    <tr>\n",
              "      <th>1</th>\n",
              "      <td>Isaac Reyes</td>\n",
              "      <td>1</td>\n",
              "      <td>35.0</td>\n",
              "      <td>1</td>\n",
              "      <td>0</td>\n",
              "      <td>118</td>\n",
              "    </tr>\n",
              "    <tr>\n",
              "      <th>2</th>\n",
              "      <td>Jaime Sullivan</td>\n",
              "      <td>0</td>\n",
              "      <td>25.0</td>\n",
              "      <td>2</td>\n",
              "      <td>1</td>\n",
              "      <td>107</td>\n",
              "    </tr>\n",
              "    <tr>\n",
              "      <th>3</th>\n",
              "      <td>Geraldine Miller</td>\n",
              "      <td>0</td>\n",
              "      <td>39.0</td>\n",
              "      <td>2</td>\n",
              "      <td>1</td>\n",
              "      <td>177</td>\n",
              "    </tr>\n",
              "    <tr>\n",
              "      <th>4</th>\n",
              "      <td>Curtis Frazier</td>\n",
              "      <td>1</td>\n",
              "      <td>39.0</td>\n",
              "      <td>2</td>\n",
              "      <td>1</td>\n",
              "      <td>90</td>\n",
              "    </tr>\n",
              "    <tr>\n",
              "      <th>5</th>\n",
              "      <td>Jeannie Palmer</td>\n",
              "      <td>0</td>\n",
              "      <td>28.0</td>\n",
              "      <td>1</td>\n",
              "      <td>0</td>\n",
              "      <td>189</td>\n",
              "    </tr>\n",
              "    <tr>\n",
              "      <th>6</th>\n",
              "      <td>Phyllis Romero</td>\n",
              "      <td>0</td>\n",
              "      <td>21.0</td>\n",
              "      <td>2</td>\n",
              "      <td>1</td>\n",
              "      <td>102</td>\n",
              "    </tr>\n",
              "    <tr>\n",
              "      <th>7</th>\n",
              "      <td>Maxine Edwards</td>\n",
              "      <td>0</td>\n",
              "      <td>21.0</td>\n",
              "      <td>1</td>\n",
              "      <td>1</td>\n",
              "      <td>111</td>\n",
              "    </tr>\n",
              "    <tr>\n",
              "      <th>8</th>\n",
              "      <td>Marty Cohen</td>\n",
              "      <td>0</td>\n",
              "      <td>32.0</td>\n",
              "      <td>1</td>\n",
              "      <td>0</td>\n",
              "      <td>50</td>\n",
              "    </tr>\n",
              "    <tr>\n",
              "      <th>9</th>\n",
              "      <td>Lionel Mendoza</td>\n",
              "      <td>1</td>\n",
              "      <td>48.0</td>\n",
              "      <td>2</td>\n",
              "      <td>1</td>\n",
              "      <td>141</td>\n",
              "    </tr>\n",
              "    <tr>\n",
              "      <th>10</th>\n",
              "      <td>Maureen Norman</td>\n",
              "      <td>0</td>\n",
              "      <td>70.0</td>\n",
              "      <td>2</td>\n",
              "      <td>0</td>\n",
              "      <td>153</td>\n",
              "    </tr>\n",
              "    <tr>\n",
              "      <th>11</th>\n",
              "      <td>Santiago Cruz</td>\n",
              "      <td>1</td>\n",
              "      <td>36.0</td>\n",
              "      <td>2</td>\n",
              "      <td>1</td>\n",
              "      <td>46</td>\n",
              "    </tr>\n",
              "    <tr>\n",
              "      <th>12</th>\n",
              "      <td>Santiago Cruz</td>\n",
              "      <td>1</td>\n",
              "      <td>36.0</td>\n",
              "      <td>2</td>\n",
              "      <td>1</td>\n",
              "      <td>46</td>\n",
              "    </tr>\n",
              "    <tr>\n",
              "      <th>13</th>\n",
              "      <td>Nelson Davis</td>\n",
              "      <td>1</td>\n",
              "      <td>22.0</td>\n",
              "      <td>2</td>\n",
              "      <td>1</td>\n",
              "      <td>51</td>\n",
              "    </tr>\n",
              "    <tr>\n",
              "      <th>14</th>\n",
              "      <td>Josephine Owens</td>\n",
              "      <td>0</td>\n",
              "      <td>53.0</td>\n",
              "      <td>0</td>\n",
              "      <td>1</td>\n",
              "      <td>183</td>\n",
              "    </tr>\n",
              "    <tr>\n",
              "      <th>15</th>\n",
              "      <td>Clarence Vaughn</td>\n",
              "      <td>1</td>\n",
              "      <td>27.0</td>\n",
              "      <td>0</td>\n",
              "      <td>1</td>\n",
              "      <td>137</td>\n",
              "    </tr>\n",
              "    <tr>\n",
              "      <th>16</th>\n",
              "      <td>Jon Griffin</td>\n",
              "      <td>1</td>\n",
              "      <td>22.0</td>\n",
              "      <td>0</td>\n",
              "      <td>1</td>\n",
              "      <td>147</td>\n",
              "    </tr>\n",
              "    <tr>\n",
              "      <th>17</th>\n",
              "      <td>Nettie Neal</td>\n",
              "      <td>0</td>\n",
              "      <td>49.0</td>\n",
              "      <td>2</td>\n",
              "      <td>0</td>\n",
              "      <td>158</td>\n",
              "    </tr>\n",
              "    <tr>\n",
              "      <th>18</th>\n",
              "      <td>Belinda Reeves</td>\n",
              "      <td>0</td>\n",
              "      <td>24.0</td>\n",
              "      <td>0</td>\n",
              "      <td>0</td>\n",
              "      <td>162</td>\n",
              "    </tr>\n",
              "    <tr>\n",
              "      <th>19</th>\n",
              "      <td>Taylor Murphy</td>\n",
              "      <td>1</td>\n",
              "      <td>45.0</td>\n",
              "      <td>2</td>\n",
              "      <td>1</td>\n",
              "      <td>55</td>\n",
              "    </tr>\n",
              "  </tbody>\n",
              "</table>\n",
              "</div>"
            ],
            "text/plain": [
              "                Name  Gender   Age  Payment Method  Churn  LastTransaction\n",
              "0    Nicolas Garrett       1  64.0               2      1               98\n",
              "1        Isaac Reyes       1  35.0               1      0              118\n",
              "2     Jaime Sullivan       0  25.0               2      1              107\n",
              "3   Geraldine Miller       0  39.0               2      1              177\n",
              "4     Curtis Frazier       1  39.0               2      1               90\n",
              "5     Jeannie Palmer       0  28.0               1      0              189\n",
              "6     Phyllis Romero       0  21.0               2      1              102\n",
              "7     Maxine Edwards       0  21.0               1      1              111\n",
              "8        Marty Cohen       0  32.0               1      0               50\n",
              "9     Lionel Mendoza       1  48.0               2      1              141\n",
              "10    Maureen Norman       0  70.0               2      0              153\n",
              "11     Santiago Cruz       1  36.0               2      1               46\n",
              "12     Santiago Cruz       1  36.0               2      1               46\n",
              "13      Nelson Davis       1  22.0               2      1               51\n",
              "14   Josephine Owens       0  53.0               0      1              183\n",
              "15   Clarence Vaughn       1  27.0               0      1              137\n",
              "16       Jon Griffin       1  22.0               0      1              147\n",
              "17       Nettie Neal       0  49.0               2      0              158\n",
              "18    Belinda Reeves       0  24.0               0      0              162\n",
              "19     Taylor Murphy       1  45.0               2      1               55"
            ]
          },
          "metadata": {
            "tags": []
          },
          "execution_count": 66
        }
      ]
    },
    {
      "cell_type": "code",
      "metadata": {
        "id": "Qfxon2sR8s43",
        "colab_type": "code",
        "colab": {}
      },
      "source": [
        "#Spliting the Dataset into Dependent and Independent Variables\n",
        "X = df.iloc[:,1:6]\n",
        "y = df.iloc[:,4]"
      ],
      "execution_count": 11,
      "outputs": []
    },
    {
      "cell_type": "code",
      "metadata": {
        "id": "EtWQZA5y4PfF",
        "colab_type": "code",
        "colab": {
          "base_uri": "https://localhost:8080/",
          "height": 230
        },
        "outputId": "6a4e4122-2013-44e3-8f27-88db2a51ceff"
      },
      "source": [
        "print(y)"
      ],
      "execution_count": 13,
      "outputs": [
        {
          "output_type": "stream",
          "text": [
            "0      1\n",
            "1      0\n",
            "2      1\n",
            "3      1\n",
            "4      1\n",
            "      ..\n",
            "994    1\n",
            "995    1\n",
            "996    1\n",
            "997    1\n",
            "998    1\n",
            "Name: Churn, Length: 999, dtype: int64\n"
          ],
          "name": "stdout"
        }
      ]
    },
    {
      "cell_type": "code",
      "metadata": {
        "id": "TkZs4g8z9D0O",
        "colab_type": "code",
        "colab": {}
      },
      "source": [
        "X = X.drop('Churn', axis=1)"
      ],
      "execution_count": 14,
      "outputs": []
    },
    {
      "cell_type": "code",
      "metadata": {
        "id": "RhYkW1XP-ZOS",
        "colab_type": "code",
        "colab": {
          "base_uri": "https://localhost:8080/",
          "height": 266
        },
        "outputId": "288ace94-8e53-49cb-e07c-5f5e47cd1d48"
      },
      "source": [
        "print(X)"
      ],
      "execution_count": 15,
      "outputs": [
        {
          "output_type": "stream",
          "text": [
            "     Gender   Age  Payment Method  LastTransaction\n",
            "0         1  64.0               2               98\n",
            "1         1  35.0               1              118\n",
            "2         0  25.0               2              107\n",
            "3         0  39.0               2              177\n",
            "4         1  39.0               2               90\n",
            "..      ...   ...             ...              ...\n",
            "994       0  29.0               2               33\n",
            "995       1  84.0               2              124\n",
            "996       1  20.0               2               60\n",
            "997       1  19.0               2               49\n",
            "998       0  24.0               2               25\n",
            "\n",
            "[999 rows x 4 columns]\n"
          ],
          "name": "stdout"
        }
      ]
    },
    {
      "cell_type": "code",
      "metadata": {
        "id": "s95fQwRcCHAW",
        "colab_type": "code",
        "colab": {}
      },
      "source": [
        "#Training and Testing Split \n",
        "from sklearn.model_selection import train_test_split\n",
        "X_train, X_test, y_train, y_test = train_test_split(X, y, test_size = 0.25, random_state = 1 )"
      ],
      "execution_count": 16,
      "outputs": []
    },
    {
      "cell_type": "code",
      "metadata": {
        "id": "MLZoESaR-mjV",
        "colab_type": "code",
        "colab": {}
      },
      "source": [
        "#Feature Scaling the Independent Variables\n",
        "from sklearn.preprocessing import StandardScaler\n",
        "sc = StandardScaler()\n",
        "X_train = sc.fit_transform(X_train)\n",
        "X_test = sc.transform(X_test) "
      ],
      "execution_count": 17,
      "outputs": []
    },
    {
      "cell_type": "code",
      "metadata": {
        "id": "46y9RyzUChfA",
        "colab_type": "code",
        "colab": {
          "base_uri": "https://localhost:8080/",
          "height": 141
        },
        "outputId": "43f07b82-459d-4091-fe36-e3be34ad06b4"
      },
      "source": [
        "print(X_train)"
      ],
      "execution_count": 18,
      "outputs": [
        {
          "output_type": "stream",
          "text": [
            "[[ 0.91667597 -0.30621777  0.71772241 -0.21089911]\n",
            " [ 0.91667597  0.64899462  0.71772241 -0.51749666]\n",
            " [-1.09089802 -0.1470157  -0.40456169  1.21258948]\n",
            " ...\n",
            " [ 0.91667597  1.0204661   0.71772241 -1.24019087]\n",
            " [-1.09089802  0.48979255  0.71772241  0.94979159]\n",
            " [ 0.91667597  1.17966816 -1.5268458   1.47538738]]\n"
          ],
          "name": "stdout"
        }
      ]
    },
    {
      "cell_type": "markdown",
      "metadata": {
        "id": "3Q3PASYFvIei",
        "colab_type": "text"
      },
      "source": [
        "## **Now since the dataset is very well preprocessed without errors or dominatinf features. Now I am going to apply ML Models.**"
      ]
    },
    {
      "cell_type": "markdown",
      "metadata": {
        "id": "31gUsfekvbyi",
        "colab_type": "text"
      },
      "source": [
        "### **The first model is Logistic Regression**"
      ]
    },
    {
      "cell_type": "code",
      "metadata": {
        "id": "hVKH3UD7CrGH",
        "colab_type": "code",
        "colab": {
          "base_uri": "https://localhost:8080/",
          "height": 106
        },
        "outputId": "d193246b-eca3-49e2-d82b-153da88c651d"
      },
      "source": [
        "#Logistic Regression Model\n",
        "from sklearn.linear_model import LogisticRegression\n",
        "log = LogisticRegression(random_state = 0)\n",
        "log.fit(X_train, y_train)"
      ],
      "execution_count": 19,
      "outputs": [
        {
          "output_type": "execute_result",
          "data": {
            "text/plain": [
              "LogisticRegression(C=1.0, class_weight=None, dual=False, fit_intercept=True,\n",
              "                   intercept_scaling=1, l1_ratio=None, max_iter=100,\n",
              "                   multi_class='auto', n_jobs=None, penalty='l2',\n",
              "                   random_state=0, solver='lbfgs', tol=0.0001, verbose=0,\n",
              "                   warm_start=False)"
            ]
          },
          "metadata": {
            "tags": []
          },
          "execution_count": 19
        }
      ]
    },
    {
      "cell_type": "code",
      "metadata": {
        "id": "IzJ8-qsHDFkF",
        "colab_type": "code",
        "colab": {
          "base_uri": "https://localhost:8080/",
          "height": 35
        },
        "outputId": "e5fc5eef-8ba8-4cbc-bc37-d0c8b01790f6"
      },
      "source": [
        "print('The Training Accuracy of the Model is : ' , log.score(X_train, y_train))"
      ],
      "execution_count": 100,
      "outputs": [
        {
          "output_type": "stream",
          "text": [
            "The Training Accuracy of the Model is :  0.8024032042723631\n"
          ],
          "name": "stdout"
        }
      ]
    },
    {
      "cell_type": "code",
      "metadata": {
        "id": "TXDJFHOjDgTc",
        "colab_type": "code",
        "colab": {
          "base_uri": "https://localhost:8080/",
          "height": 248
        },
        "outputId": "593b2153-9bca-4b5e-d098-8801e3c03028"
      },
      "source": [
        "#Analyzing the Metrics of the Model\n",
        "from sklearn.metrics import classification_report, accuracy_score, confusion_matrix\n",
        "cm = confusion_matrix(y_test, log.predict(X_test))\n",
        "print(cm)\n",
        "print()\n",
        "print(classification_report(y_test, log.predict(X_test)))\n",
        "print('The Model Accuracy is : ', accuracy_score(y_test, log.predict(X_test)))"
      ],
      "execution_count": 67,
      "outputs": [
        {
          "output_type": "stream",
          "text": [
            "[[ 58  20]\n",
            " [ 22 150]]\n",
            "\n",
            "              precision    recall  f1-score   support\n",
            "\n",
            "           0       0.72      0.74      0.73        78\n",
            "           1       0.88      0.87      0.88       172\n",
            "\n",
            "    accuracy                           0.83       250\n",
            "   macro avg       0.80      0.81      0.81       250\n",
            "weighted avg       0.83      0.83      0.83       250\n",
            "\n",
            "The Model Accuracy is :  0.832\n"
          ],
          "name": "stdout"
        }
      ]
    },
    {
      "cell_type": "markdown",
      "metadata": {
        "id": "H7EhFGcsvqzE",
        "colab_type": "text"
      },
      "source": [
        "### **The Second model is Decision Tree Classifier**"
      ]
    },
    {
      "cell_type": "code",
      "metadata": {
        "id": "PFlMBtqaFaRj",
        "colab_type": "code",
        "colab": {
          "base_uri": "https://localhost:8080/",
          "height": 124
        },
        "outputId": "00199027-89a4-4bcc-8e9f-a40c518fc532"
      },
      "source": [
        "#Decision Tree Classifier\n",
        "from sklearn.tree import DecisionTreeClassifier\n",
        "tree = DecisionTreeClassifier(criterion = 'entropy', random_state = 0, max_depth=3)\n",
        "tree.fit(X_train, y_train)"
      ],
      "execution_count": 83,
      "outputs": [
        {
          "output_type": "execute_result",
          "data": {
            "text/plain": [
              "DecisionTreeClassifier(ccp_alpha=0.0, class_weight=None, criterion='entropy',\n",
              "                       max_depth=3, max_features=None, max_leaf_nodes=None,\n",
              "                       min_impurity_decrease=0.0, min_impurity_split=None,\n",
              "                       min_samples_leaf=1, min_samples_split=2,\n",
              "                       min_weight_fraction_leaf=0.0, presort='deprecated',\n",
              "                       random_state=0, splitter='best')"
            ]
          },
          "metadata": {
            "tags": []
          },
          "execution_count": 83
        }
      ]
    },
    {
      "cell_type": "code",
      "metadata": {
        "id": "NULSO733FzSS",
        "colab_type": "code",
        "colab": {
          "base_uri": "https://localhost:8080/",
          "height": 35
        },
        "outputId": "538f2bed-01b9-4417-c1cb-727b52255522"
      },
      "source": [
        "print('The Training Accuracy of the Model is : ', tree.score(X_train, y_train))"
      ],
      "execution_count": 99,
      "outputs": [
        {
          "output_type": "stream",
          "text": [
            "The Training Accuracy of the Model is :  0.8130841121495327\n"
          ],
          "name": "stdout"
        }
      ]
    },
    {
      "cell_type": "code",
      "metadata": {
        "id": "oxHxjmCoGYRc",
        "colab_type": "code",
        "colab": {
          "base_uri": "https://localhost:8080/",
          "height": 248
        },
        "outputId": "e0788e98-a3a8-45a9-c91f-5293b6fb5d26"
      },
      "source": [
        "from sklearn.metrics import classification_report, accuracy_score, confusion_matrix\n",
        "cm1 = confusion_matrix(y_test, tree.predict(X_test))\n",
        "print(cm1)\n",
        "print()\n",
        "print(classification_report(y_test, tree.predict(X_test)))\n",
        "print('The Model Accuracy is : ', accuracy_score(y_test, tree.predict(X_test)))"
      ],
      "execution_count": 93,
      "outputs": [
        {
          "output_type": "stream",
          "text": [
            "[[ 60  18]\n",
            " [ 23 149]]\n",
            "\n",
            "              precision    recall  f1-score   support\n",
            "\n",
            "           0       0.72      0.77      0.75        78\n",
            "           1       0.89      0.87      0.88       172\n",
            "\n",
            "    accuracy                           0.84       250\n",
            "   macro avg       0.81      0.82      0.81       250\n",
            "weighted avg       0.84      0.84      0.84       250\n",
            "\n",
            "The Model Accuracy is :  0.836\n"
          ],
          "name": "stdout"
        }
      ]
    },
    {
      "cell_type": "markdown",
      "metadata": {
        "id": "xamaxLLtv29m",
        "colab_type": "text"
      },
      "source": [
        "### **The third model is Random Forest Classifier**"
      ]
    },
    {
      "cell_type": "code",
      "metadata": {
        "id": "hE8RJgqfb0j9",
        "colab_type": "code",
        "colab": {
          "base_uri": "https://localhost:8080/",
          "height": 159
        },
        "outputId": "fcbe5b82-595c-44cc-87a5-d2df911e02de"
      },
      "source": [
        "#Random Forest Classifier\n",
        "from sklearn.ensemble import RandomForestClassifier\n",
        "forest = RandomForestClassifier(n_estimators = 10, criterion = 'entropy', random_state = 0, max_depth=5)\n",
        "forest.fit(X_train, y_train)"
      ],
      "execution_count": 101,
      "outputs": [
        {
          "output_type": "execute_result",
          "data": {
            "text/plain": [
              "RandomForestClassifier(bootstrap=True, ccp_alpha=0.0, class_weight=None,\n",
              "                       criterion='entropy', max_depth=5, max_features='auto',\n",
              "                       max_leaf_nodes=None, max_samples=None,\n",
              "                       min_impurity_decrease=0.0, min_impurity_split=None,\n",
              "                       min_samples_leaf=1, min_samples_split=2,\n",
              "                       min_weight_fraction_leaf=0.0, n_estimators=10,\n",
              "                       n_jobs=None, oob_score=False, random_state=0, verbose=0,\n",
              "                       warm_start=False)"
            ]
          },
          "metadata": {
            "tags": []
          },
          "execution_count": 101
        }
      ]
    },
    {
      "cell_type": "code",
      "metadata": {
        "id": "bA2RD_PSr954",
        "colab_type": "code",
        "colab": {
          "base_uri": "https://localhost:8080/",
          "height": 35
        },
        "outputId": "1d6f106e-beb1-4f0a-a0c5-02643f09c2bb"
      },
      "source": [
        "print('The Training Accuracy of the Model is : ', forest.score(X_train, y_train))"
      ],
      "execution_count": 102,
      "outputs": [
        {
          "output_type": "stream",
          "text": [
            "The Training Accuracy of the Model is :  0.8210947930574098\n"
          ],
          "name": "stdout"
        }
      ]
    },
    {
      "cell_type": "code",
      "metadata": {
        "id": "uMkovQn0cZWp",
        "colab_type": "code",
        "colab": {
          "base_uri": "https://localhost:8080/",
          "height": 248
        },
        "outputId": "3666538b-8693-4655-adf9-d72603feb790"
      },
      "source": [
        "from sklearn.metrics import classification_report, accuracy_score, confusion_matrix\n",
        "cm1 = confusion_matrix(y_test, tree.predict(X_test))\n",
        "print(cm1)\n",
        "print()\n",
        "print(classification_report(y_test, tree.predict(X_test)))\n",
        "print('The Model Accuracy is : ', accuracy_score(y_test, forest.predict(X_test))) "
      ],
      "execution_count": 103,
      "outputs": [
        {
          "output_type": "stream",
          "text": [
            "[[ 60  18]\n",
            " [ 23 149]]\n",
            "\n",
            "              precision    recall  f1-score   support\n",
            "\n",
            "           0       0.72      0.77      0.75        78\n",
            "           1       0.89      0.87      0.88       172\n",
            "\n",
            "    accuracy                           0.84       250\n",
            "   macro avg       0.81      0.82      0.81       250\n",
            "weighted avg       0.84      0.84      0.84       250\n",
            "\n",
            "The Model Accuracy is :  0.828\n"
          ],
          "name": "stdout"
        }
      ]
    }
  ]
}