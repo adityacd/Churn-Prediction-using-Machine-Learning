{
  "nbformat": 4,
  "nbformat_minor": 0,
  "metadata": {
    "colab": {
      "name": "Churn_Prediction.ipynb",
      "provenance": [],
      "authorship_tag": "ABX9TyOwK/6ctufz8oTeMWGAuXMr",
      "include_colab_link": true
    },
    "kernelspec": {
      "name": "python3",
      "display_name": "Python 3"
    }
  },
  "cells": [
    {
      "cell_type": "markdown",
      "metadata": {
        "id": "view-in-github",
        "colab_type": "text"
      },
      "source": [
        "<a href=\"https://colab.research.google.com/github/adityacd/Churn-Prediction-using-Machine-Learning/blob/master/Churn_Prediction.ipynb\" target=\"_parent\"><img src=\"https://colab.research.google.com/assets/colab-badge.svg\" alt=\"Open In Colab\"/></a>"
      ]
    },
    {
      "cell_type": "code",
      "metadata": {
        "id": "1vx2McHnjila",
        "colab_type": "code",
        "colab": {
          "base_uri": "https://localhost:8080/",
          "height": 72
        },
        "outputId": "ad84f157-14d1-4946-c7be-86616554e2ad"
      },
      "source": [
        "#Importing Libraries\n",
        "import numpy as np\n",
        "import matplotlib.pyplot as plt\n",
        "import pandas as pd\n",
        "import seaborn as sns"
      ],
      "execution_count": 1,
      "outputs": [
        {
          "output_type": "stream",
          "text": [
            "/usr/local/lib/python3.6/dist-packages/statsmodels/tools/_testing.py:19: FutureWarning: pandas.util.testing is deprecated. Use the functions in the public API at pandas.testing instead.\n",
            "  import pandas.util.testing as tm\n"
          ],
          "name": "stderr"
        }
      ]
    },
    {
      "cell_type": "code",
      "metadata": {
        "id": "ANda4fg6j1dk",
        "colab_type": "code",
        "colab": {
          "base_uri": "https://localhost:8080/",
          "height": 194
        },
        "outputId": "c5c57bc8-6096-4836-dae7-6cc8f2f8bbeb"
      },
      "source": [
        "#Importing Dataset\n",
        "df = pd.read_csv('Dataset.csv')\n",
        "df.head() "
      ],
      "execution_count": 3,
      "outputs": [
        {
          "output_type": "execute_result",
          "data": {
            "text/html": [
              "<div>\n",
              "<style scoped>\n",
              "    .dataframe tbody tr th:only-of-type {\n",
              "        vertical-align: middle;\n",
              "    }\n",
              "\n",
              "    .dataframe tbody tr th {\n",
              "        vertical-align: top;\n",
              "    }\n",
              "\n",
              "    .dataframe thead th {\n",
              "        text-align: right;\n",
              "    }\n",
              "</style>\n",
              "<table border=\"1\" class=\"dataframe\">\n",
              "  <thead>\n",
              "    <tr style=\"text-align: right;\">\n",
              "      <th></th>\n",
              "      <th>Name</th>\n",
              "      <th>Gender</th>\n",
              "      <th>Age</th>\n",
              "      <th>Payment Method</th>\n",
              "      <th>Churn</th>\n",
              "      <th>LastTransaction</th>\n",
              "    </tr>\n",
              "  </thead>\n",
              "  <tbody>\n",
              "    <tr>\n",
              "      <th>0</th>\n",
              "      <td>Nicolas Garrett</td>\n",
              "      <td>male</td>\n",
              "      <td>64.0</td>\n",
              "      <td>credit card</td>\n",
              "      <td>loyal</td>\n",
              "      <td>98</td>\n",
              "    </tr>\n",
              "    <tr>\n",
              "      <th>1</th>\n",
              "      <td>Isaac Reyes</td>\n",
              "      <td>male</td>\n",
              "      <td>35.0</td>\n",
              "      <td>cheque</td>\n",
              "      <td>churn</td>\n",
              "      <td>118</td>\n",
              "    </tr>\n",
              "    <tr>\n",
              "      <th>2</th>\n",
              "      <td>Jaime Sullivan</td>\n",
              "      <td>female</td>\n",
              "      <td>25.0</td>\n",
              "      <td>credit card</td>\n",
              "      <td>loyal</td>\n",
              "      <td>107</td>\n",
              "    </tr>\n",
              "    <tr>\n",
              "      <th>3</th>\n",
              "      <td>Geraldine Miller</td>\n",
              "      <td>female</td>\n",
              "      <td>39.0</td>\n",
              "      <td>credit card</td>\n",
              "      <td>NaN</td>\n",
              "      <td>177</td>\n",
              "    </tr>\n",
              "    <tr>\n",
              "      <th>4</th>\n",
              "      <td>Curtis Frazier</td>\n",
              "      <td>male</td>\n",
              "      <td>39.0</td>\n",
              "      <td>credit card</td>\n",
              "      <td>loyal</td>\n",
              "      <td>90</td>\n",
              "    </tr>\n",
              "  </tbody>\n",
              "</table>\n",
              "</div>"
            ],
            "text/plain": [
              "               Name  Gender   Age Payment Method  Churn  LastTransaction\n",
              "0   Nicolas Garrett    male  64.0    credit card  loyal               98\n",
              "1       Isaac Reyes    male  35.0         cheque  churn              118\n",
              "2    Jaime Sullivan  female  25.0    credit card  loyal              107\n",
              "3  Geraldine Miller  female  39.0    credit card    NaN              177\n",
              "4    Curtis Frazier    male  39.0    credit card  loyal               90"
            ]
          },
          "metadata": {
            "tags": []
          },
          "execution_count": 3
        }
      ]
    },
    {
      "cell_type": "code",
      "metadata": {
        "id": "8ShGHw0Jj1iy",
        "colab_type": "code",
        "colab": {
          "base_uri": "https://localhost:8080/",
          "height": 141
        },
        "outputId": "cb61db77-63de-4485-c522-75024c6c886e"
      },
      "source": [
        "#Identifying the missing values count\n",
        "df.isna().sum()"
      ],
      "execution_count": 4,
      "outputs": [
        {
          "output_type": "execute_result",
          "data": {
            "text/plain": [
              "Name                0\n",
              "Gender              1\n",
              "Age                 1\n",
              "Payment Method      0\n",
              "Churn              96\n",
              "LastTransaction     0\n",
              "dtype: int64"
            ]
          },
          "metadata": {
            "tags": []
          },
          "execution_count": 4
        }
      ]
    },
    {
      "cell_type": "code",
      "metadata": {
        "id": "529nne1Kj1m-",
        "colab_type": "code",
        "colab": {}
      },
      "source": [
        "#Taking care of missing values Since the values are categorical.\n",
        "df['Gender'] = df['Gender'].fillna(method = 'ffill')\n",
        "df['Age'] = df['Age'].fillna(method = 'ffill')\n",
        "df['Churn'] = df['Churn'].fillna(method = 'ffill')"
      ],
      "execution_count": 5,
      "outputs": []
    },
    {
      "cell_type": "code",
      "metadata": {
        "id": "cN4YFWl-j1uU",
        "colab_type": "code",
        "colab": {
          "base_uri": "https://localhost:8080/",
          "height": 141
        },
        "outputId": "c5ce2091-8598-48a2-d944-69c10412798d"
      },
      "source": [
        "df.isnull().sum()"
      ],
      "execution_count": 6,
      "outputs": [
        {
          "output_type": "execute_result",
          "data": {
            "text/plain": [
              "Name               0\n",
              "Gender             0\n",
              "Age                0\n",
              "Payment Method     0\n",
              "Churn              0\n",
              "LastTransaction    0\n",
              "dtype: int64"
            ]
          },
          "metadata": {
            "tags": []
          },
          "execution_count": 6
        }
      ]
    },
    {
      "cell_type": "code",
      "metadata": {
        "id": "SBHFtgXjj2Ai",
        "colab_type": "code",
        "colab": {
          "base_uri": "https://localhost:8080/",
          "height": 70
        },
        "outputId": "41d6626a-5d5a-4a0f-cbc1-29c2cdfb0e1f"
      },
      "source": [
        "#Calculating total Churn and loyal counts\n",
        "df['Churn'].value_counts()"
      ],
      "execution_count": 7,
      "outputs": [
        {
          "output_type": "execute_result",
          "data": {
            "text/plain": [
              "loyal    639\n",
              "churn    360\n",
              "Name: Churn, dtype: int64"
            ]
          },
          "metadata": {
            "tags": []
          },
          "execution_count": 7
        }
      ]
    },
    {
      "cell_type": "code",
      "metadata": {
        "id": "Xa6HK8KYj2Dg",
        "colab_type": "code",
        "colab": {
          "base_uri": "https://localhost:8080/",
          "height": 297
        },
        "outputId": "2d111323-6d40-40d9-fbc5-bd9ff7ad513e"
      },
      "source": [
        "sns.countplot(df['Churn'], label = 'count')"
      ],
      "execution_count": 8,
      "outputs": [
        {
          "output_type": "execute_result",
          "data": {
            "text/plain": [
              "<matplotlib.axes._subplots.AxesSubplot at 0x7fd6d6b846a0>"
            ]
          },
          "metadata": {
            "tags": []
          },
          "execution_count": 8
        },
        {
          "output_type": "display_data",
          "data": {
            "image/png": "[encoded data removed]",
            "text/plain": [
              "<Figure size 432x288 with 1 Axes>"
            ]
          },
          "metadata": {
            "tags": [],
            "needs_background": "light"
          }
        }
      ]
    },
    {
      "cell_type": "code",
      "metadata": {
        "id": "I0f05joWj2HU",
        "colab_type": "code",
        "colab": {
          "base_uri": "https://localhost:8080/",
          "height": 141
        },
        "outputId": "e81ae3c3-a5a7-4f4d-e462-283c02b747ae"
      },
      "source": [
        "#Identifying data types of the columns\n",
        "df.dtypes"
      ],
      "execution_count": 9,
      "outputs": [
        {
          "output_type": "execute_result",
          "data": {
            "text/plain": [
              "Name                object\n",
              "Gender              object\n",
              "Age                float64\n",
              "Payment Method      object\n",
              "Churn               object\n",
              "LastTransaction      int64\n",
              "dtype: object"
            ]
          },
          "metadata": {
            "tags": []
          },
          "execution_count": 9
        }
      ]
    },
    {
      "cell_type": "code",
      "metadata": {
        "id": "ilPqKAL6j1sp",
        "colab_type": "code",
        "colab": {
          "base_uri": "https://localhost:8080/",
          "height": 634
        },
        "outputId": "cb020d9e-610c-49a8-901d-3a2e3531abdc"
      },
      "source": [
        "#Encoding categorical values\n",
        "from sklearn.preprocessing import LabelEncoder\n",
        "le = LabelEncoder()\n",
        "df['Churn'] = le.fit_transform(df['Churn'])\n",
        "df['Payment Method'] = le.fit_transform(df['Payment Method'])\n",
        "df['Gender'] = le.fit_transform(df['Gender'])\n",
        "df.head(20)"
      ],
      "execution_count": 11,
      "outputs": [
        {
          "output_type": "execute_result",
          "data": {
            "text/html": [
              "<div>\n",
              "<style scoped>\n",
              "    .dataframe tbody tr th:only-of-type {\n",
              "        vertical-align: middle;\n",
              "    }\n",
              "\n",
              "    .dataframe tbody tr th {\n",
              "        vertical-align: top;\n",
              "    }\n",
              "\n",
              "    .dataframe thead th {\n",
              "        text-align: right;\n",
              "    }\n",
              "</style>\n",
              "<table border=\"1\" class=\"dataframe\">\n",
              "  <thead>\n",
              "    <tr style=\"text-align: right;\">\n",
              "      <th></th>\n",
              "      <th>Name</th>\n",
              "      <th>Gender</th>\n",
              "      <th>Age</th>\n",
              "      <th>Payment Method</th>\n",
              "      <th>Churn</th>\n",
              "      <th>LastTransaction</th>\n",
              "    </tr>\n",
              "  </thead>\n",
              "  <tbody>\n",
              "    <tr>\n",
              "      <th>0</th>\n",
              "      <td>Nicolas Garrett</td>\n",
              "      <td>1</td>\n",
              "      <td>64.0</td>\n",
              "      <td>2</td>\n",
              "      <td>1</td>\n",
              "      <td>98</td>\n",
              "    </tr>\n",
              "    <tr>\n",
              "      <th>1</th>\n",
              "      <td>Isaac Reyes</td>\n",
              "      <td>1</td>\n",
              "      <td>35.0</td>\n",
              "      <td>1</td>\n",
              "      <td>0</td>\n",
              "      <td>118</td>\n",
              "    </tr>\n",
              "    <tr>\n",
              "      <th>2</th>\n",
              "      <td>Jaime Sullivan</td>\n",
              "      <td>0</td>\n",
              "      <td>25.0</td>\n",
              "      <td>2</td>\n",
              "      <td>1</td>\n",
              "      <td>107</td>\n",
              "    </tr>\n",
              "    <tr>\n",
              "      <th>3</th>\n",
              "      <td>Geraldine Miller</td>\n",
              "      <td>0</td>\n",
              "      <td>39.0</td>\n",
              "      <td>2</td>\n",
              "      <td>1</td>\n",
              "      <td>177</td>\n",
              "    </tr>\n",
              "    <tr>\n",
              "      <th>4</th>\n",
              "      <td>Curtis Frazier</td>\n",
              "      <td>1</td>\n",
              "      <td>39.0</td>\n",
              "      <td>2</td>\n",
              "      <td>1</td>\n",
              "      <td>90</td>\n",
              "    </tr>\n",
              "    <tr>\n",
              "      <th>5</th>\n",
              "      <td>Jeannie Palmer</td>\n",
              "      <td>0</td>\n",
              "      <td>28.0</td>\n",
              "      <td>1</td>\n",
              "      <td>0</td>\n",
              "      <td>189</td>\n",
              "    </tr>\n",
              "    <tr>\n",
              "      <th>6</th>\n",
              "      <td>Phyllis Romero</td>\n",
              "      <td>0</td>\n",
              "      <td>21.0</td>\n",
              "      <td>2</td>\n",
              "      <td>1</td>\n",
              "      <td>102</td>\n",
              "    </tr>\n",
              "    <tr>\n",
              "      <th>7</th>\n",
              "      <td>Maxine Edwards</td>\n",
              "      <td>0</td>\n",
              "      <td>21.0</td>\n",
              "      <td>1</td>\n",
              "      <td>1</td>\n",
              "      <td>111</td>\n",
              "    </tr>\n",
              "    <tr>\n",
              "      <th>8</th>\n",
              "      <td>Marty Cohen</td>\n",
              "      <td>0</td>\n",
              "      <td>32.0</td>\n",
              "      <td>1</td>\n",
              "      <td>0</td>\n",
              "      <td>50</td>\n",
              "    </tr>\n",
              "    <tr>\n",
              "      <th>9</th>\n",
              "      <td>Lionel Mendoza</td>\n",
              "      <td>1</td>\n",
              "      <td>48.0</td>\n",
              "      <td>2</td>\n",
              "      <td>1</td>\n",
              "      <td>141</td>\n",
              "    </tr>\n",
              "    <tr>\n",
              "      <th>10</th>\n",
              "      <td>Maureen Norman</td>\n",
              "      <td>0</td>\n",
              "      <td>70.0</td>\n",
              "      <td>2</td>\n",
              "      <td>0</td>\n",
              "      <td>153</td>\n",
              "    </tr>\n",
              "    <tr>\n",
              "      <th>11</th>\n",
              "      <td>Santiago Cruz</td>\n",
              "      <td>1</td>\n",
              "      <td>36.0</td>\n",
              "      <td>2</td>\n",
              "      <td>1</td>\n",
              "      <td>46</td>\n",
              "    </tr>\n",
              "    <tr>\n",
              "      <th>12</th>\n",
              "      <td>Santiago Cruz</td>\n",
              "      <td>1</td>\n",
              "      <td>36.0</td>\n",
              "      <td>2</td>\n",
              "      <td>1</td>\n",
              "      <td>46</td>\n",
              "    </tr>\n",
              "    <tr>\n",
              "      <th>13</th>\n",
              "      <td>Nelson Davis</td>\n",
              "      <td>1</td>\n",
              "      <td>22.0</td>\n",
              "      <td>2</td>\n",
              "      <td>1</td>\n",
              "      <td>51</td>\n",
              "    </tr>\n",
              "    <tr>\n",
              "      <th>14</th>\n",
              "      <td>Josephine Owens</td>\n",
              "      <td>0</td>\n",
              "      <td>53.0</td>\n",
              "      <td>0</td>\n",
              "      <td>1</td>\n",
              "      <td>183</td>\n",
              "    </tr>\n",
              "    <tr>\n",
              "      <th>15</th>\n",
              "      <td>Clarence Vaughn</td>\n",
              "      <td>1</td>\n",
              "      <td>27.0</td>\n",
              "      <td>0</td>\n",
              "      <td>1</td>\n",
              "      <td>137</td>\n",
              "    </tr>\n",
              "    <tr>\n",
              "      <th>16</th>\n",
              "      <td>Jon Griffin</td>\n",
              "      <td>1</td>\n",
              "      <td>22.0</td>\n",
              "      <td>0</td>\n",
              "      <td>1</td>\n",
              "      <td>147</td>\n",
              "    </tr>\n",
              "    <tr>\n",
              "      <th>17</th>\n",
              "      <td>Nettie Neal</td>\n",
              "      <td>0</td>\n",
              "      <td>49.0</td>\n",
              "      <td>2</td>\n",
              "      <td>0</td>\n",
              "      <td>158</td>\n",
              "    </tr>\n",
              "    <tr>\n",
              "      <th>18</th>\n",
              "      <td>Belinda Reeves</td>\n",
              "      <td>0</td>\n",
              "      <td>24.0</td>\n",
              "      <td>0</td>\n",
              "      <td>0</td>\n",
              "      <td>162</td>\n",
              "    </tr>\n",
              "    <tr>\n",
              "      <th>19</th>\n",
              "      <td>Taylor Murphy</td>\n",
              "      <td>1</td>\n",
              "      <td>45.0</td>\n",
              "      <td>2</td>\n",
              "      <td>1</td>\n",
              "      <td>55</td>\n",
              "    </tr>\n",
              "  </tbody>\n",
              "</table>\n",
              "</div>"
            ],
            "text/plain": [
              "                Name  Gender   Age  Payment Method  Churn  LastTransaction\n",
              "0    Nicolas Garrett       1  64.0               2      1               98\n",
              "1        Isaac Reyes       1  35.0               1      0              118\n",
              "2     Jaime Sullivan       0  25.0               2      1              107\n",
              "3   Geraldine Miller       0  39.0               2      1              177\n",
              "4     Curtis Frazier       1  39.0               2      1               90\n",
              "5     Jeannie Palmer       0  28.0               1      0              189\n",
              "6     Phyllis Romero       0  21.0               2      1              102\n",
              "7     Maxine Edwards       0  21.0               1      1              111\n",
              "8        Marty Cohen       0  32.0               1      0               50\n",
              "9     Lionel Mendoza       1  48.0               2      1              141\n",
              "10    Maureen Norman       0  70.0               2      0              153\n",
              "11     Santiago Cruz       1  36.0               2      1               46\n",
              "12     Santiago Cruz       1  36.0               2      1               46\n",
              "13      Nelson Davis       1  22.0               2      1               51\n",
              "14   Josephine Owens       0  53.0               0      1              183\n",
              "15   Clarence Vaughn       1  27.0               0      1              137\n",
              "16       Jon Griffin       1  22.0               0      1              147\n",
              "17       Nettie Neal       0  49.0               2      0              158\n",
              "18    Belinda Reeves       0  24.0               0      0              162\n",
              "19     Taylor Murphy       1  45.0               2      1               55"
            ]
          },
          "metadata": {
            "tags": []
          },
          "execution_count": 11
        }
      ]
    },
    {
      "cell_type": "code",
      "metadata": {
        "id": "h1O8GJ6hj1hB",
        "colab_type": "code",
        "colab": {}
      },
      "source": [
        "#Separating Dependent and Independent Variables\n",
        "X = df.iloc[:,1:6]\n",
        "y = df.iloc[:,4]"
      ],
      "execution_count": 12,
      "outputs": []
    },
    {
      "cell_type": "code",
      "metadata": {
        "id": "Fp0pPmbMmt3_",
        "colab_type": "code",
        "colab": {}
      },
      "source": [
        "X = X.drop('Churn', axis=1)"
      ],
      "execution_count": null,
      "outputs": []
    },
    {
      "cell_type": "code",
      "metadata": {
        "id": "82BrGH-VmwJS",
        "colab_type": "code",
        "colab": {
          "base_uri": "https://localhost:8080/",
          "height": 266
        },
        "outputId": "559c5b9f-165a-4dd3-b0e2-4d9e1a01e235"
      },
      "source": [
        "print(X)"
      ],
      "execution_count": 13,
      "outputs": [
        {
          "output_type": "stream",
          "text": [
            "     Gender   Age  Payment Method  Churn  LastTransaction\n",
            "0         1  64.0               2      1               98\n",
            "1         1  35.0               1      0              118\n",
            "2         0  25.0               2      1              107\n",
            "3         0  39.0               2      1              177\n",
            "4         1  39.0               2      1               90\n",
            "..      ...   ...             ...    ...              ...\n",
            "994       0  29.0               2      1               33\n",
            "995       1  84.0               2      1              124\n",
            "996       1  20.0               2      1               60\n",
            "997       1  19.0               2      1               49\n",
            "998       0  24.0               2      1               25\n",
            "\n",
            "[999 rows x 5 columns]\n"
          ],
          "name": "stdout"
        }
      ]
    },
    {
      "cell_type": "code",
      "metadata": {
        "id": "7bacl4IbmzOp",
        "colab_type": "code",
        "colab": {
          "base_uri": "https://localhost:8080/",
          "height": 230
        },
        "outputId": "fb16ad79-b29a-4361-d167-51da2794d631"
      },
      "source": [
        "print(y)"
      ],
      "execution_count": 14,
      "outputs": [
        {
          "output_type": "stream",
          "text": [
            "0      1\n",
            "1      0\n",
            "2      1\n",
            "3      1\n",
            "4      1\n",
            "      ..\n",
            "994    1\n",
            "995    1\n",
            "996    1\n",
            "997    1\n",
            "998    1\n",
            "Name: Churn, Length: 999, dtype: int64\n"
          ],
          "name": "stdout"
        }
      ]
    },
    {
      "cell_type": "code",
      "metadata": {
        "id": "XapmYNkUnCv3",
        "colab_type": "code",
        "colab": {}
      },
      "source": [
        "#Test Train Spliting data\n",
        "from sklearn.model_selection import train_test_split\n",
        "X_train, X_test, y_train, y_test = train_test_split(X, y, test_size = 0.25, random_state = 1 )"
      ],
      "execution_count": 15,
      "outputs": []
    },
    {
      "cell_type": "code",
      "metadata": {
        "id": "jaY7fWE8nLip",
        "colab_type": "code",
        "colab": {}
      },
      "source": [
        "#Feature Scaling the features for accurate prediction\n",
        "from sklearn.preprocessing import StandardScaler\n",
        "sc = StandardScaler()\n",
        "X_train = sc.fit_transform(X_train)\n",
        "X_test = sc.transform(X_test) "
      ],
      "execution_count": 16,
      "outputs": []
    },
    {
      "cell_type": "code",
      "metadata": {
        "id": "b3-2FZEQnVmK",
        "colab_type": "code",
        "colab": {
          "base_uri": "https://localhost:8080/",
          "height": 141
        },
        "outputId": "3589f1a5-bba6-47af-a5a9-5810bb61e6e6"
      },
      "source": [
        "print(X_train)"
      ],
      "execution_count": 17,
      "outputs": [
        {
          "output_type": "stream",
          "text": [
            "[[ 0.91667597 -0.30621777  0.71772241  0.77708068 -0.21089911]\n",
            " [ 0.91667597  0.64899462  0.71772241  0.77708068 -0.51749666]\n",
            " [-1.09089802 -0.1470157  -0.40456169 -1.28686766  1.21258948]\n",
            " ...\n",
            " [ 0.91667597  1.0204661   0.71772241  0.77708068 -1.24019087]\n",
            " [-1.09089802  0.48979255  0.71772241  0.77708068  0.94979159]\n",
            " [ 0.91667597  1.17966816 -1.5268458   0.77708068  1.47538738]]\n"
          ],
          "name": "stdout"
        }
      ]
    }
  ]
}